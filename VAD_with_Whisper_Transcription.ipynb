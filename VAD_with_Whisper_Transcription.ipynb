{
  "cells": [
    {
      "cell_type": "markdown",
      "id": "e4d4e51d",
      "metadata": {
        "id": "e4d4e51d"
      },
      "source": [
        "# **Voice Activity Detection (VAD) with Whisper Transcription**\n",
        "This notebook uses Whisper to transcribe audio and allows chunk-level re-transcription."
      ]
    },
    {
      "cell_type": "markdown",
      "id": "j27QFJkx2_YD",
      "metadata": {
        "id": "j27QFJkx2_YD"
      },
      "source": [
        "**You can access TEST-1.mp3 audio here.**\n",
        "\n",
        "---\n",
        "\n",
        "[Audio Link](https://drive.google.com/file/d/1ODHCbW7LjuTUxd0njylHHHObwQxQVK6D/view?usp=drive_link)"
      ]
    },
    {
      "cell_type": "markdown",
      "id": "wCfiLMDX9l72",
      "metadata": {
        "id": "wCfiLMDX9l72"
      },
      "source": [
        "# **INSTALLING MODULES**\n"
      ]
    },
    {
      "cell_type": "code",
      "execution_count": null,
      "id": "kF6SHAWr9rFx",
      "metadata": {
        "colab": {
          "base_uri": "https://localhost:8080/",
          "height": 0
        },
        "collapsed": true,
        "id": "kF6SHAWr9rFx",
        "outputId": "5693b593-65fd-47c2-9e64-84c3b4716651"
      },
      "outputs": [],
      "source": [
        "!pip install pyannote.audio\n",
        "!pip install faster-whisper\n",
        "!pip install torchaudio\n",
        "!pip install ffmpeg-python pydub"
      ]
    },
    {
      "cell_type": "markdown",
      "id": "S0LA9CCJ97kZ",
      "metadata": {
        "id": "S0LA9CCJ97kZ"
      },
      "source": [
        "# **IMPORT NECESSARY LIBRARIES**\n"
      ]
    },
    {
      "cell_type": "code",
      "execution_count": 6,
      "id": "6fab1b57",
      "metadata": {
        "id": "6fab1b57"
      },
      "outputs": [],
      "source": [
        "from pyannote.audio import Pipeline\n",
        "from faster_whisper import WhisperModel\n",
        "from google.colab import files\n",
        "import torch\n",
        "import torchaudio\n",
        "import os\n",
        "import datetime\n",
        "from datetime import timedelta\n",
        "from pydub import AudioSegment\n",
        "import json"
      ]
    },
    {
      "cell_type": "markdown",
      "id": "ayFPWT2A-RUg",
      "metadata": {
        "id": "ayFPWT2A-RUg"
      },
      "source": [
        "# **Upload file and .mp3 to .wav conversion**\n",
        "\n",
        "*   Sample Rate - 16 KHz\n",
        "*   Channel - 1 (mono)\n",
        "*   Audio Codec - pcm_s16le"
      ]
    },
    {
      "cell_type": "code",
      "execution_count": 8,
      "id": "zHYEWOC2stBp",
      "metadata": {
        "colab": {
          "base_uri": "https://localhost:8080/",
          "height": 770
        },
        "id": "zHYEWOC2stBp",
        "outputId": "8a5e9bfc-420e-42ff-f1cd-c57a2804bd33"
      },
      "outputs": [
        {
          "data": {
            "text/html": [
              "\n",
              "     <input type=\"file\" id=\"files-913b57d1-7c67-44e9-8419-b9c65e64f24f\" name=\"files[]\" multiple disabled\n",
              "        style=\"border:none\" />\n",
              "     <output id=\"result-913b57d1-7c67-44e9-8419-b9c65e64f24f\">\n",
              "      Upload widget is only available when the cell has been executed in the\n",
              "      current browser session. Please rerun this cell to enable.\n",
              "      </output>\n",
              "      <script>// Copyright 2017 Google LLC\n",
              "//\n",
              "// Licensed under the Apache License, Version 2.0 (the \"License\");\n",
              "// you may not use this file except in compliance with the License.\n",
              "// You may obtain a copy of the License at\n",
              "//\n",
              "//      http://www.apache.org/licenses/LICENSE-2.0\n",
              "//\n",
              "// Unless required by applicable law or agreed to in writing, software\n",
              "// distributed under the License is distributed on an \"AS IS\" BASIS,\n",
              "// WITHOUT WARRANTIES OR CONDITIONS OF ANY KIND, either express or implied.\n",
              "// See the License for the specific language governing permissions and\n",
              "// limitations under the License.\n",
              "\n",
              "/**\n",
              " * @fileoverview Helpers for google.colab Python module.\n",
              " */\n",
              "(function(scope) {\n",
              "function span(text, styleAttributes = {}) {\n",
              "  const element = document.createElement('span');\n",
              "  element.textContent = text;\n",
              "  for (const key of Object.keys(styleAttributes)) {\n",
              "    element.style[key] = styleAttributes[key];\n",
              "  }\n",
              "  return element;\n",
              "}\n",
              "\n",
              "// Max number of bytes which will be uploaded at a time.\n",
              "const MAX_PAYLOAD_SIZE = 100 * 1024;\n",
              "\n",
              "function _uploadFiles(inputId, outputId) {\n",
              "  const steps = uploadFilesStep(inputId, outputId);\n",
              "  const outputElement = document.getElementById(outputId);\n",
              "  // Cache steps on the outputElement to make it available for the next call\n",
              "  // to uploadFilesContinue from Python.\n",
              "  outputElement.steps = steps;\n",
              "\n",
              "  return _uploadFilesContinue(outputId);\n",
              "}\n",
              "\n",
              "// This is roughly an async generator (not supported in the browser yet),\n",
              "// where there are multiple asynchronous steps and the Python side is going\n",
              "// to poll for completion of each step.\n",
              "// This uses a Promise to block the python side on completion of each step,\n",
              "// then passes the result of the previous step as the input to the next step.\n",
              "function _uploadFilesContinue(outputId) {\n",
              "  const outputElement = document.getElementById(outputId);\n",
              "  const steps = outputElement.steps;\n",
              "\n",
              "  const next = steps.next(outputElement.lastPromiseValue);\n",
              "  return Promise.resolve(next.value.promise).then((value) => {\n",
              "    // Cache the last promise value to make it available to the next\n",
              "    // step of the generator.\n",
              "    outputElement.lastPromiseValue = value;\n",
              "    return next.value.response;\n",
              "  });\n",
              "}\n",
              "\n",
              "/**\n",
              " * Generator function which is called between each async step of the upload\n",
              " * process.\n",
              " * @param {string} inputId Element ID of the input file picker element.\n",
              " * @param {string} outputId Element ID of the output display.\n",
              " * @return {!Iterable<!Object>} Iterable of next steps.\n",
              " */\n",
              "function* uploadFilesStep(inputId, outputId) {\n",
              "  const inputElement = document.getElementById(inputId);\n",
              "  inputElement.disabled = false;\n",
              "\n",
              "  const outputElement = document.getElementById(outputId);\n",
              "  outputElement.innerHTML = '';\n",
              "\n",
              "  const pickedPromise = new Promise((resolve) => {\n",
              "    inputElement.addEventListener('change', (e) => {\n",
              "      resolve(e.target.files);\n",
              "    });\n",
              "  });\n",
              "\n",
              "  const cancel = document.createElement('button');\n",
              "  inputElement.parentElement.appendChild(cancel);\n",
              "  cancel.textContent = 'Cancel upload';\n",
              "  const cancelPromise = new Promise((resolve) => {\n",
              "    cancel.onclick = () => {\n",
              "      resolve(null);\n",
              "    };\n",
              "  });\n",
              "\n",
              "  // Wait for the user to pick the files.\n",
              "  const files = yield {\n",
              "    promise: Promise.race([pickedPromise, cancelPromise]),\n",
              "    response: {\n",
              "      action: 'starting',\n",
              "    }\n",
              "  };\n",
              "\n",
              "  cancel.remove();\n",
              "\n",
              "  // Disable the input element since further picks are not allowed.\n",
              "  inputElement.disabled = true;\n",
              "\n",
              "  if (!files) {\n",
              "    return {\n",
              "      response: {\n",
              "        action: 'complete',\n",
              "      }\n",
              "    };\n",
              "  }\n",
              "\n",
              "  for (const file of files) {\n",
              "    const li = document.createElement('li');\n",
              "    li.append(span(file.name, {fontWeight: 'bold'}));\n",
              "    li.append(span(\n",
              "        `(${file.type || 'n/a'}) - ${file.size} bytes, ` +\n",
              "        `last modified: ${\n",
              "            file.lastModifiedDate ? file.lastModifiedDate.toLocaleDateString() :\n",
              "                                    'n/a'} - `));\n",
              "    const percent = span('0% done');\n",
              "    li.appendChild(percent);\n",
              "\n",
              "    outputElement.appendChild(li);\n",
              "\n",
              "    const fileDataPromise = new Promise((resolve) => {\n",
              "      const reader = new FileReader();\n",
              "      reader.onload = (e) => {\n",
              "        resolve(e.target.result);\n",
              "      };\n",
              "      reader.readAsArrayBuffer(file);\n",
              "    });\n",
              "    // Wait for the data to be ready.\n",
              "    let fileData = yield {\n",
              "      promise: fileDataPromise,\n",
              "      response: {\n",
              "        action: 'continue',\n",
              "      }\n",
              "    };\n",
              "\n",
              "    // Use a chunked sending to avoid message size limits. See b/62115660.\n",
              "    let position = 0;\n",
              "    do {\n",
              "      const length = Math.min(fileData.byteLength - position, MAX_PAYLOAD_SIZE);\n",
              "      const chunk = new Uint8Array(fileData, position, length);\n",
              "      position += length;\n",
              "\n",
              "      const base64 = btoa(String.fromCharCode.apply(null, chunk));\n",
              "      yield {\n",
              "        response: {\n",
              "          action: 'append',\n",
              "          file: file.name,\n",
              "          data: base64,\n",
              "        },\n",
              "      };\n",
              "\n",
              "      let percentDone = fileData.byteLength === 0 ?\n",
              "          100 :\n",
              "          Math.round((position / fileData.byteLength) * 100);\n",
              "      percent.textContent = `${percentDone}% done`;\n",
              "\n",
              "    } while (position < fileData.byteLength);\n",
              "  }\n",
              "\n",
              "  // All done.\n",
              "  yield {\n",
              "    response: {\n",
              "      action: 'complete',\n",
              "    }\n",
              "  };\n",
              "}\n",
              "\n",
              "scope.google = scope.google || {};\n",
              "scope.google.colab = scope.google.colab || {};\n",
              "scope.google.colab._files = {\n",
              "  _uploadFiles,\n",
              "  _uploadFilesContinue,\n",
              "};\n",
              "})(self);\n",
              "</script> "
            ],
            "text/plain": [
              "<IPython.core.display.HTML object>"
            ]
          },
          "metadata": {},
          "output_type": "display_data"
        },
        {
          "name": "stdout",
          "output_type": "stream",
          "text": [
            "Saving TEST-1.mp3 to TEST-1.mp3\n",
            "Converting 'TEST-1.mp3' to WAV format...\n",
            "ffmpeg version 4.4.2-0ubuntu0.22.04.1 Copyright (c) 2000-2021 the FFmpeg developers\n",
            "  built with gcc 11 (Ubuntu 11.2.0-19ubuntu1)\n",
            "  configuration: --prefix=/usr --extra-version=0ubuntu0.22.04.1 --toolchain=hardened --libdir=/usr/lib/x86_64-linux-gnu --incdir=/usr/include/x86_64-linux-gnu --arch=amd64 --enable-gpl --disable-stripping --enable-gnutls --enable-ladspa --enable-libaom --enable-libass --enable-libbluray --enable-libbs2b --enable-libcaca --enable-libcdio --enable-libcodec2 --enable-libdav1d --enable-libflite --enable-libfontconfig --enable-libfreetype --enable-libfribidi --enable-libgme --enable-libgsm --enable-libjack --enable-libmp3lame --enable-libmysofa --enable-libopenjpeg --enable-libopenmpt --enable-libopus --enable-libpulse --enable-librabbitmq --enable-librubberband --enable-libshine --enable-libsnappy --enable-libsoxr --enable-libspeex --enable-libsrt --enable-libssh --enable-libtheora --enable-libtwolame --enable-libvidstab --enable-libvorbis --enable-libvpx --enable-libwebp --enable-libx265 --enable-libxml2 --enable-libxvid --enable-libzimg --enable-libzmq --enable-libzvbi --enable-lv2 --enable-omx --enable-openal --enable-opencl --enable-opengl --enable-sdl2 --enable-pocketsphinx --enable-librsvg --enable-libmfx --enable-libdc1394 --enable-libdrm --enable-libiec61883 --enable-chromaprint --enable-frei0r --enable-libx264 --enable-shared\n",
            "  libavutil      56. 70.100 / 56. 70.100\n",
            "  libavcodec     58.134.100 / 58.134.100\n",
            "  libavformat    58. 76.100 / 58. 76.100\n",
            "  libavdevice    58. 13.100 / 58. 13.100\n",
            "  libavfilter     7.110.100 /  7.110.100\n",
            "  libswscale      5.  9.100 /  5.  9.100\n",
            "  libswresample   3.  9.100 /  3.  9.100\n",
            "  libpostproc    55.  9.100 / 55.  9.100\n",
            "Input #0, mp3, from 'TEST-1.mp3':\n",
            "  Metadata:\n",
            "    major_brand     : isom\n",
            "    minor_version   : 512\n",
            "    compatible_brands: isomiso2avc1mp41\n",
            "    title           : clideo.com\n",
            "    encoder         : Lavf60.3.100\n",
            "  Duration: 00:02:01.00, start: 0.025057, bitrate: 128 kb/s\n",
            "  Stream #0:0: Audio: mp3, 44100 Hz, stereo, fltp, 128 kb/s\n",
            "    Metadata:\n",
            "      encoder         : Lavc60.3.\n",
            "Stream mapping:\n",
            "  Stream #0:0 -> #0:0 (mp3 (mp3float) -> pcm_s16le (native))\n",
            "Press [q] to stop, [?] for help\n",
            "Output #0, wav, to 'TEST-1.wav':\n",
            "  Metadata:\n",
            "    major_brand     : isom\n",
            "    minor_version   : 512\n",
            "    compatible_brands: isomiso2avc1mp41\n",
            "    INAM            : clideo.com\n",
            "    ISFT            : Lavf58.76.100\n",
            "  Stream #0:0: Audio: pcm_s16le ([1][0][0][0] / 0x0001), 16000 Hz, mono, s16, 256 kb/s\n",
            "    Metadata:\n",
            "      encoder         : Lavc58.134.100 pcm_s16le\n",
            "size=       0kB time=00:00:00.00 bitrate=N/A speed=N/A    \rsize=    3780kB time=00:02:00.95 bitrate= 256.0kbits/s speed= 424x    \n",
            "video:0kB audio:3780kB subtitle:0kB other streams:0kB global headers:0kB muxing overhead: 0.002532%\n",
            "Conversion done: TEST-1.wav\n"
          ]
        }
      ],
      "source": [
        "#  Upload audio file\n",
        "uploaded = files.upload()  # User selects a local file (e.g., .mp3)\n",
        "\n",
        "# Get uploaded file path\n",
        "audio_path = list(uploaded.keys())[0]\n",
        "file_ext = audio_path.rsplit('.', 1)[-1].lower()\n",
        "wav_path = audio_path.rsplit('.', 1)[0] + \".wav\"\n",
        "\n",
        "# Convert only if input is MP3\n",
        "if file_ext == \"mp3\":\n",
        "    print(f\"Converting '{audio_path}' to WAV format...\")\n",
        "    !ffmpeg -i \"{audio_path}\" -ar 16000 -ac 1 -c:a pcm_s16le \"{wav_path}\"\n",
        "    print(f\"Conversion done: {wav_path}\")\n",
        "else:\n",
        "    print(f\"Uploaded file is not an MP3. Skipping conversion.\")"
      ]
    },
    {
      "cell_type": "markdown",
      "id": "GzlQy7wy_INm",
      "metadata": {
        "id": "GzlQy7wy_INm"
      },
      "source": [
        "# **Detecting Speech segments & saving audio chunks using pyannote.audio**"
      ]
    },
    {
      "cell_type": "code",
      "execution_count": null,
      "id": "1tdZnOG0vScC",
      "metadata": {
        "colab": {
          "base_uri": "https://localhost:8080/",
          "height": 0
        },
        "id": "1tdZnOG0vScC",
        "outputId": "d7f3af4d-625e-47b9-fd02-5a0c4ab14ca9"
      },
      "outputs": [
        {
          "name": "stderr",
          "output_type": "stream",
          "text": [
            "INFO:pytorch_lightning.utilities.migration.utils:Lightning automatically upgraded your loaded checkpoint from v1.1.3 to v2.5.1.post0. To apply the upgrade to your files permanently, run `python -m pytorch_lightning.utilities.upgrade_checkpoint ../root/.cache/torch/pyannote/models--pyannote--segmentation/snapshots/059e96f964841d40f1a5e755bb7223f76666bba4/pytorch_model.bin`\n"
          ]
        },
        {
          "name": "stdout",
          "output_type": "stream",
          "text": [
            "Model was trained with pyannote.audio 0.0.1, yours is 3.3.2. Bad things might happen unless you revert pyannote.audio to 0.x.\n",
            "Model was trained with torch 1.7.1, yours is 2.6.0+cu124. Bad things might happen unless you revert torch to 1.x.\n"
          ]
        }
      ],
      "source": [
        "from pyannote.audio import Pipeline\n",
        "\n",
        "pipeline = Pipeline.from_pretrained(\"pyannote/voice-activity-detection\",\n",
        "                                    use_auth_token=\"HF_TOKEN\")\n",
        "\n",
        "vad_result = pipeline(wav_path)"
      ]
    },
    {
      "cell_type": "code",
      "execution_count": 10,
      "id": "aotvKIxh8isu",
      "metadata": {
        "colab": {
          "base_uri": "https://localhost:8080/",
          "height": 0
        },
        "id": "aotvKIxh8isu",
        "outputId": "af32b118-0a0c-45be-e172-ae772b029c41"
      },
      "outputs": [
        {
          "name": "stdout",
          "output_type": "stream",
          "text": [
            "[ 00:00:00.030 -->  00:00:03.794] A SPEECH\n",
            "[ 00:00:03.996 -->  00:00:26.777] B SPEECH\n",
            "[ 00:00:26.929 -->  00:00:30.760] C SPEECH\n",
            "[ 00:00:31.283 -->  00:00:33.224] D SPEECH\n",
            "[ 00:00:33.342 -->  00:00:51.904] E SPEECH\n",
            "[ 00:00:52.495 -->  00:00:54.132] F SPEECH\n",
            "[ 00:00:54.368 -->  00:00:56.579] G SPEECH\n",
            "[ 00:00:56.697 -->  00:01:21.199] H SPEECH\n",
            "[ 00:01:21.638 -->  00:02:00.974] I SPEECH\n"
          ]
        }
      ],
      "source": [
        "print(vad_result)"
      ]
    },
    {
      "cell_type": "code",
      "execution_count": 11,
      "id": "a615ac91",
      "metadata": {
        "id": "a615ac91"
      },
      "outputs": [],
      "source": [
        "audio = AudioSegment.from_file(audio_path)\n",
        "chunks = []\n",
        "\n",
        "for i, speech_turn in enumerate(vad_result.get_timeline()):\n",
        "    start_ms = int(speech_turn.start * 1000)\n",
        "    end_ms = int(speech_turn.end * 1000)\n",
        "    chunk = audio[start_ms:end_ms]\n",
        "    chunk_path = f\"chunk_{i}.wav\"\n",
        "    chunk.export(chunk_path, format=\"wav\")\n",
        "    chunks.append((chunk_path, speech_turn.start, speech_turn.end))\n"
      ]
    },
    {
      "cell_type": "code",
      "execution_count": 12,
      "id": "tYWvPVgF5RZp",
      "metadata": {
        "colab": {
          "base_uri": "https://localhost:8080/",
          "height": 0
        },
        "id": "tYWvPVgF5RZp",
        "outputId": "a07ce03e-5d7a-4c35-b0fa-39d3806f0edf"
      },
      "outputs": [
        {
          "data": {
            "text/plain": [
              "[('chunk_0.wav', 0.03096875, 3.79409375),\n",
              " ('chunk_1.wav', 3.99659375, 26.777843750000002),\n",
              " ('chunk_2.wav', 26.929718750000003, 30.76034375),\n",
              " ('chunk_3.wav', 31.28346875, 33.22409375),\n",
              " ('chunk_4.wav', 33.34221875, 51.90471875),\n",
              " ('chunk_5.wav', 52.49534375, 54.13221875),\n",
              " ('chunk_6.wav', 54.368468750000005, 56.579093750000006),\n",
              " ('chunk_7.wav', 56.697218750000005, 81.19971875),\n",
              " ('chunk_8.wav', 81.63846875, 120.97409375000001)]"
            ]
          },
          "execution_count": 12,
          "metadata": {},
          "output_type": "execute_result"
        }
      ],
      "source": [
        "chunks"
      ]
    },
    {
      "cell_type": "markdown",
      "id": "lCYCScEuAFaQ",
      "metadata": {
        "id": "lCYCScEuAFaQ"
      },
      "source": [
        "# **Transcribing Audio Chunks with Whisper and Timestamp Formatting**"
      ]
    },
    {
      "cell_type": "code",
      "execution_count": null,
      "id": "MOsci2hLDGdn",
      "metadata": {
        "id": "MOsci2hLDGdn"
      },
      "outputs": [],
      "source": [
        "HF_TOKEN = \"HF_TOKEN\"\n",
        "\n",
        "os.environ[\"HF_TOKEN\"] = HF_TOKEN"
      ]
    },
    {
      "cell_type": "code",
      "execution_count": 31,
      "id": "dKtXjrqr41fO",
      "metadata": {
        "id": "dKtXjrqr41fO"
      },
      "outputs": [],
      "source": [
        "def convert_time(secs):\n",
        "    return str(datetime.timedelta(seconds=round(secs)))\n",
        "\n",
        "def transcribe_chunks_with_timestamps(chunks, whisper_model=\"base\", compute_type=\"float16\"):\n",
        "\n",
        "    model = WhisperModel(whisper_model, compute_type=compute_type)\n",
        "    transcripts = []\n",
        "\n",
        "    for  path, start, end in chunks:\n",
        "        segments, _ = model.transcribe(path)\n",
        "        text = \" \".join(segment.text.strip() for segment in segments)\n",
        "\n",
        "        transcripts.append({\n",
        "            \"start\": convert_time(start),\n",
        "            \"end\": convert_time(end),\n",
        "            \"duration\": str(datetime.timedelta(seconds=round(end - start))),\n",
        "            \"text\": text\n",
        "        })\n",
        "\n",
        "    return transcripts\n"
      ]
    },
    {
      "cell_type": "code",
      "execution_count": 32,
      "id": "iOq-79P_DmOT",
      "metadata": {
        "id": "iOq-79P_DmOT"
      },
      "outputs": [],
      "source": [
        "transcripts = transcribe_chunks_with_timestamps(chunks, whisper_model=\"base\", compute_type=\"float16\")"
      ]
    },
    {
      "cell_type": "markdown",
      "id": "AQ0tztMqAR-Z",
      "metadata": {
        "id": "AQ0tztMqAR-Z"
      },
      "source": [
        "# **Saving Transcription Results to Text File & metadata to JSON**"
      ]
    },
    {
      "cell_type": "code",
      "execution_count": 24,
      "id": "845416bf",
      "metadata": {
        "colab": {
          "base_uri": "https://localhost:8080/",
          "height": 17
        },
        "id": "845416bf",
        "outputId": "8a61bd8c-476c-4bea-ae27-143bd4365674"
      },
      "outputs": [
        {
          "data": {
            "application/javascript": "\n    async function download(id, filename, size) {\n      if (!google.colab.kernel.accessAllowed) {\n        return;\n      }\n      const div = document.createElement('div');\n      const label = document.createElement('label');\n      label.textContent = `Downloading \"${filename}\": `;\n      div.appendChild(label);\n      const progress = document.createElement('progress');\n      progress.max = size;\n      div.appendChild(progress);\n      document.body.appendChild(div);\n\n      const buffers = [];\n      let downloaded = 0;\n\n      const channel = await google.colab.kernel.comms.open(id);\n      // Send a message to notify the kernel that we're ready.\n      channel.send({})\n\n      for await (const message of channel.messages) {\n        // Send a message to notify the kernel that we're ready.\n        channel.send({})\n        if (message.buffers) {\n          for (const buffer of message.buffers) {\n            buffers.push(buffer);\n            downloaded += buffer.byteLength;\n            progress.value = downloaded;\n          }\n        }\n      }\n      const blob = new Blob(buffers, {type: 'application/binary'});\n      const a = document.createElement('a');\n      a.href = window.URL.createObjectURL(blob);\n      a.download = filename;\n      div.appendChild(a);\n      a.click();\n      div.remove();\n    }\n  ",
            "text/plain": [
              "<IPython.core.display.Javascript object>"
            ]
          },
          "metadata": {},
          "output_type": "display_data"
        },
        {
          "data": {
            "application/javascript": "download(\"download_da9ed693-a160-4c5a-ba52-13b8c4bb5b73\", \"transcript.txt\", 2091)",
            "text/plain": [
              "<IPython.core.display.Javascript object>"
            ]
          },
          "metadata": {},
          "output_type": "display_data"
        }
      ],
      "source": [
        "# Saving Transcripts to txt file\n",
        "\n",
        "with open(\"transcript.txt\", \"w\", encoding=\"utf-8\") as f:\n",
        "    f.write(f\"{'START':<10} {'END':<10} Text\\n\")\n",
        "    f.write(\"=\" * 80 + \"\\n\")\n",
        "    for segment in transcripts:\n",
        "        f.write(f\"{segment['start']:<10} {segment['end']:<10} {segment['text']}\\n\\n\")  # double newline for spacing\n",
        "\n",
        "files.download(\"transcript.txt\")\n"
      ]
    },
    {
      "cell_type": "code",
      "execution_count": null,
      "id": "qIP0m8XBJFH4",
      "metadata": {
        "colab": {
          "base_uri": "https://localhost:8080/",
          "height": 17
        },
        "id": "qIP0m8XBJFH4",
        "outputId": "ba334057-1d47-4096-c39f-977b273f4d39"
      },
      "outputs": [
        {
          "data": {
            "application/javascript": "\n    async function download(id, filename, size) {\n      if (!google.colab.kernel.accessAllowed) {\n        return;\n      }\n      const div = document.createElement('div');\n      const label = document.createElement('label');\n      label.textContent = `Downloading \"${filename}\": `;\n      div.appendChild(label);\n      const progress = document.createElement('progress');\n      progress.max = size;\n      div.appendChild(progress);\n      document.body.appendChild(div);\n\n      const buffers = [];\n      let downloaded = 0;\n\n      const channel = await google.colab.kernel.comms.open(id);\n      // Send a message to notify the kernel that we're ready.\n      channel.send({})\n\n      for await (const message of channel.messages) {\n        // Send a message to notify the kernel that we're ready.\n        channel.send({})\n        if (message.buffers) {\n          for (const buffer of message.buffers) {\n            buffers.push(buffer);\n            downloaded += buffer.byteLength;\n            progress.value = downloaded;\n          }\n        }\n      }\n      const blob = new Blob(buffers, {type: 'application/binary'});\n      const a = document.createElement('a');\n      a.href = window.URL.createObjectURL(blob);\n      a.download = filename;\n      div.appendChild(a);\n      a.click();\n      div.remove();\n    }\n  ",
            "text/plain": [
              "<IPython.core.display.Javascript object>"
            ]
          },
          "metadata": {},
          "output_type": "display_data"
        },
        {
          "data": {
            "application/javascript": "download(\"download_2461bf6e-3e74-49d5-96a7-2e46312a3697\", \"transcript.json\", 2822)",
            "text/plain": [
              "<IPython.core.display.Javascript object>"
            ]
          },
          "metadata": {},
          "output_type": "display_data"
        }
      ],
      "source": [
        "# Metadata to JSON\n",
        "\n",
        "with open(\"transcript.json\", \"w\") as f:\n",
        "    json.dump(transcripts, f, indent=4)\n",
        "\n",
        "files.download(\"transcript.json\")"
      ]
    }
  ],
  "metadata": {
    "accelerator": "GPU",
    "colab": {
      "gpuType": "T4",
      "provenance": []
    },
    "kernelspec": {
      "display_name": "Python 3",
      "name": "python3"
    },
    "language_info": {
      "name": "python"
    }
  },
  "nbformat": 4,
  "nbformat_minor": 5
}
